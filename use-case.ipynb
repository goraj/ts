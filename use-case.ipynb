{
 "cells": [
  {
   "cell_type": "code",
   "execution_count": 85,
   "outputs": [
    {
     "name": "stdout",
     "output_type": "stream",
     "text": [
      "The autoreload extension is already loaded. To reload it, use:\n",
      "  %reload_ext autoreload\n"
     ]
    }
   ],
   "source": [
    "%load_ext autoreload\n",
    "%autoreload 2"
   ],
   "metadata": {
    "collapsed": false
   }
  },
  {
   "cell_type": "code",
   "execution_count": 86,
   "metadata": {
    "collapsed": true
   },
   "outputs": [],
   "source": [
    "import matplotlib.pyplot as plt\n",
    "import polars as pl\n",
    "from datetime import datetime, time\n",
    "\n",
    "from ts.supplier import TradeTick\n",
    "from ts.supplier import TickSupplier\n",
    "\n",
    "from ts.supplier import Bar\n",
    "from ts.supplier import BarSupplier\n",
    "from ts.supplier import BarAggregation\n",
    "from ts.supplier import BarFeatureSupplier, BarFeatures\n",
    "from ts.supplier import RollingFeaturesSupplier, SupplierType\n",
    "from ts.supplier import Function, BaseSupplier\n",
    "from ts.supplier import MultiplexSupplier\n",
    "\n",
    "filepath = \"/Users/jacobgora/projects/data/continuous_futures/CME-HO.parquet\"\n",
    "tick_supplier = TickSupplier(instrument=\"CME-HO\")\n",
    "tick_supplier.from_parquet(filepath)"
   ]
  },
  {
   "cell_type": "code",
   "execution_count": 87,
   "outputs": [],
   "source": [
    "supplier = MultiplexSupplier(suppliers=\n",
    "    [\n",
    "        BarFeatureSupplier(\n",
    "            supplier=BarSupplier(\n",
    "                supplier=tick_supplier,\n",
    "                bar_aggregation=BarAggregation.TIME_MINUTES,\n",
    "                size=60\n",
    "            )\n",
    "        ),\n",
    "        BarFeatureSupplier(\n",
    "            supplier=BarSupplier(\n",
    "                supplier=tick_supplier,\n",
    "                bar_aggregation=BarAggregation.TIME_MINUTES,\n",
    "                size=1\n",
    "            )\n",
    "        )\n",
    "    ]\n",
    ")"
   ],
   "metadata": {
    "collapsed": false
   }
  },
  {
   "cell_type": "code",
   "execution_count": 88,
   "outputs": [
    {
     "name": "stdout",
     "output_type": "stream",
     "text": [
      "type_attr ='internal_bar_strength'\n",
      "type_attr ='ofi'\n"
     ]
    }
   ],
   "source": [
    "rolling_feat_supplier = RollingFeaturesSupplier(\n",
    "    functions=[Function.Z_SCORE],\n",
    "    supplier=supplier,\n",
    "    type_attributes=[\n",
    "        BarFeatures.INTERNAL_BAR_STRENGTH,\n",
    "        BarFeatures.OFI,\n",
    "    ]\n",
    ")"
   ],
   "metadata": {
    "collapsed": false
   }
  },
  {
   "cell_type": "code",
   "execution_count": 89,
   "outputs": [
    {
     "name": "stdout",
     "output_type": "stream",
     "text": [
      "['rolling_features-bar_features-bar-CME-HO-time_minutes_agg-1-internal_bar_strength-z_score-10', 'rolling_features-bar_features-bar-CME-HO-time_minutes_agg-60-internal_bar_strength-z_score-10', 'rolling_features-bar_features-bar-CME-HO-time_minutes_agg-1-ofi-z_score-10', 'rolling_features-bar_features-bar-CME-HO-time_minutes_agg-60-ofi-z_score-10']\n"
     ]
    }
   ],
   "source": [
    "print([e for e in rolling_feat_supplier.data.columns if \"rolling_features\" in e])"
   ],
   "metadata": {
    "collapsed": false
   }
  },
  {
   "cell_type": "code",
   "execution_count": 106,
   "outputs": [
    {
     "name": "stderr",
     "output_type": "stream",
     "text": [
      "/Users/jacobgora/.local/lib/python3.10/site-packages/numpy/ctypeslib.py:526: RuntimeWarning: A builtin ctypes object gave a PEP3118 format string that does not match its itemsize, so a best-guess will be made of the data type. Newer versions of python may behave correctly.\n",
      "  return asarray(obj)\n"
     ]
    }
   ],
   "source": [
    "barfeat_supplier = BarFeatureSupplier(\n",
    "    supplier=BarSupplier(\n",
    "        supplier=tick_supplier,\n",
    "        bar_aggregation=BarAggregation.TIME_MINUTES,\n",
    "        size=60\n",
    "    )\n",
    ")"
   ],
   "metadata": {
    "collapsed": false
   }
  },
  {
   "cell_type": "code",
   "execution_count": 107,
   "outputs": [
    {
     "data": {
      "text/plain": "['bar_features-bar-CME-HO-time_minutes_agg-60-RETURN_TIMEDELTA',\n 'bar_features-bar-CME-HO-time_minutes_agg-60-BID_SIZE_TIMEDELTA',\n 'bar_features-bar-CME-HO-time_minutes_agg-60-ASK_SIZE_TIMEDELTA',\n 'bar_features-bar-CME-HO-time_minutes_agg-60-RETURN_BID_SIZE',\n 'bar_features-bar-CME-HO-time_minutes_agg-60-RETURN_ASK_SIZE',\n 'bar_features-bar-CME-HO-time_minutes_agg-60-VOLUME',\n 'bar_features-bar-CME-HO-time_minutes_agg-60-VOLUME_DELTA',\n 'bar_features-bar-CME-HO-time_minutes_agg-60-CUMULATIVE_VOLUME_DELTA',\n 'bar_features-bar-CME-HO-time_minutes_agg-60-INTERNAL_BAR_STRENGTH',\n 'bar_features-bar-CME-HO-time_minutes_agg-60-OFI',\n 'bar_features-bar-CME-HO-time_minutes_agg-60-OFI_NORMALIZED',\n 'bar_features-bar-CME-HO-time_minutes_agg-60-OPEN_HIGH',\n 'bar_features-bar-CME-HO-time_minutes_agg-60-OPEN_LOW',\n 'bar_features-bar-CME-HO-time_minutes_agg-60-OPEN_CLOSE',\n 'bar_features-bar-CME-HO-time_minutes_agg-60-SIGNAL',\n 'bar_features-bar-CME-HO-time_minutes_agg-60-POS_REALIZED_VARIANCE',\n 'bar_features-bar-CME-HO-time_minutes_agg-60-NEG_REALIZED_VARIANCE']"
     },
     "execution_count": 107,
     "metadata": {},
     "output_type": "execute_result"
    }
   ],
   "source": [
    "barfeat_supplier.bar_features"
   ],
   "metadata": {
    "collapsed": false
   }
  },
  {
   "cell_type": "code",
   "execution_count": null,
   "outputs": [],
   "source": [],
   "metadata": {
    "collapsed": false
   }
  }
 ],
 "metadata": {
  "kernelspec": {
   "display_name": "Python 3",
   "language": "python",
   "name": "python3"
  },
  "language_info": {
   "codemirror_mode": {
    "name": "ipython",
    "version": 2
   },
   "file_extension": ".py",
   "mimetype": "text/x-python",
   "name": "python",
   "nbconvert_exporter": "python",
   "pygments_lexer": "ipython2",
   "version": "2.7.6"
  }
 },
 "nbformat": 4,
 "nbformat_minor": 0
}
