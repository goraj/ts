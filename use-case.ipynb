{
 "cells": [
  {
   "cell_type": "code",
   "execution_count": 187,
   "outputs": [
    {
     "name": "stdout",
     "output_type": "stream",
     "text": [
      "The autoreload extension is already loaded. To reload it, use:\n",
      "  %reload_ext autoreload\n"
     ]
    }
   ],
   "source": [
    "%load_ext autoreload\n",
    "%autoreload 2"
   ],
   "metadata": {
    "collapsed": false
   }
  },
  {
   "cell_type": "code",
   "execution_count": 188,
   "metadata": {
    "collapsed": true
   },
   "outputs": [],
   "source": [
    "import matplotlib.pyplot as plt\n",
    "import polars as pl\n",
    "from datetime import datetime, time\n",
    "\n",
    "from ts.supplier import TradeTick\n",
    "from ts.supplier import TickSupplier\n",
    "\n",
    "from ts.supplier import Bar\n",
    "from ts.supplier import BarSupplier\n",
    "from ts.supplier import BarAggregation\n",
    "from ts.supplier import BarFeatureSupplier, BarFeatures\n",
    "from ts.supplier import RollingFeaturesSupplier, SupplierType\n",
    "from ts.supplier import Function, BaseSupplier\n",
    "from ts.supplier import MultiplexSupplier\n",
    "\n",
    "filepath = \"/Users/jacobgora/projects/data/continuous_futures/CME-HO.parquet\"\n",
    "tick_supplier = TickSupplier(instrument=\"CME-HO\")\n",
    "tick_supplier.from_parquet(filepath)"
   ]
  },
  {
   "cell_type": "code",
   "execution_count": 189,
   "outputs": [],
   "source": [
    "suppliers = [\n",
    "    BarFeatureSupplier(\n",
    "        supplier=BarSupplier(\n",
    "            supplier=tick_supplier,\n",
    "            bar_aggregation=BarAggregation.TIME_MINUTES,\n",
    "            size=5\n",
    "        )\n",
    "    ),\n",
    "    BarFeatureSupplier(\n",
    "        supplier=BarSupplier(\n",
    "            supplier=tick_supplier,\n",
    "            bar_aggregation=BarAggregation.TIME_MINUTES,\n",
    "            size=1\n",
    "        )\n",
    "    )\n",
    "]\n",
    "\n",
    "multiplex_supplier = MultiplexSupplier(suppliers=suppliers)"
   ],
   "metadata": {
    "collapsed": false
   }
  },
  {
   "cell_type": "code",
   "execution_count": 190,
   "outputs": [],
   "source": [
    "rolling_feat_supplier = RollingFeaturesSupplier(\n",
    "    supplier=multiplex_supplier,\n",
    "    functions=[Function.Z_SCORE],\n",
    "    type_attributes=[\n",
    "        # OFI / Tape\n",
    "        BarFeatures.OFI_NORMALIZED,\n",
    "        BarFeatures.OFI,\n",
    "\n",
    "        BarFeatures.ASK_SIZE,\n",
    "        BarFeatures.BID_SIZE,\n",
    "\n",
    "        BarFeatures.ASK_SIZE_TIMEDELTA,\n",
    "        BarFeatures.BID_SIZE_TIMEDELTA,\n",
    "\n",
    "        BarFeatures.RETURN_TIMEDELTA,\n",
    "\n",
    "        BarFeatures.RETURN_BID_SIZE,\n",
    "        BarFeatures.RETURN_ASK_SIZE,\n",
    "\n",
    "        # Volume\n",
    "        BarFeatures.CUMULATIVE_VOLUME_DELTA,\n",
    "        BarFeatures.VOLUME_DELTA,\n",
    "        BarFeatures.VOLUME,\n",
    "\n",
    "        # Volatility\n",
    "        BarFeatures.POS_REALIZED_VARIANCE,\n",
    "        BarFeatures.NEG_REALIZED_VARIANCE,\n",
    "\n",
    "        #\n",
    "        BarFeatures.INTERNAL_BAR_STRENGTH\n",
    "    ]\n",
    ")"
   ],
   "metadata": {
    "collapsed": false
   }
  },
  {
   "cell_type": "code",
   "execution_count": 197,
   "outputs": [
    {
     "data": {
      "text/plain": "shape: (5, 16)\n┌────────────┬────────────┬────────────┬────────────┬─────┬────────────┬────────────┬────────────┬────────────┐\n│ rolling_fe ┆ rolling_fe ┆ rolling_fe ┆ rolling_fe ┆ ... ┆ rolling_fe ┆ rolling_fe ┆ rolling_fe ┆ rolling_fe │\n│ atures-bar ┆ atures-bar ┆ atures-bar ┆ atures-bar ┆     ┆ atures-bar ┆ atures-bar ┆ atures-bar ┆ atures-bar │\n│ _features- ┆ _features- ┆ _features- ┆ _features- ┆     ┆ _features- ┆ _features- ┆ _features- ┆ _features- │\n│ ba...      ┆ ba...      ┆ ba...      ┆ ba...      ┆     ┆ ba...      ┆ ba...      ┆ ba...      ┆ ba...      │\n│ ---        ┆ ---        ┆ ---        ┆ ---        ┆     ┆ ---        ┆ ---        ┆ ---        ┆ ---        │\n│ f64        ┆ f64        ┆ f64        ┆ f64        ┆     ┆ f64        ┆ f64        ┆ f64        ┆ f64        │\n╞════════════╪════════════╪════════════╪════════════╪═════╪════════════╪════════════╪════════════╪════════════╡\n│ 0.659223   ┆ 0.680917   ┆ 1.037562   ┆ 17.078371  ┆ ... ┆ 0.236711   ┆ 17.938541  ┆ NaN        ┆ -1.873314  │\n├╌╌╌╌╌╌╌╌╌╌╌╌┼╌╌╌╌╌╌╌╌╌╌╌╌┼╌╌╌╌╌╌╌╌╌╌╌╌┼╌╌╌╌╌╌╌╌╌╌╌╌┼╌╌╌╌╌┼╌╌╌╌╌╌╌╌╌╌╌╌┼╌╌╌╌╌╌╌╌╌╌╌╌┼╌╌╌╌╌╌╌╌╌╌╌╌┼╌╌╌╌╌╌╌╌╌╌╌╌┤\n│ 0.303857   ┆ 0.659366   ┆ 1.523175   ┆ 17.01613   ┆ ... ┆ 1.147112   ┆ 17.927575  ┆ NaN        ┆ -1.720809  │\n├╌╌╌╌╌╌╌╌╌╌╌╌┼╌╌╌╌╌╌╌╌╌╌╌╌┼╌╌╌╌╌╌╌╌╌╌╌╌┼╌╌╌╌╌╌╌╌╌╌╌╌┼╌╌╌╌╌┼╌╌╌╌╌╌╌╌╌╌╌╌┼╌╌╌╌╌╌╌╌╌╌╌╌┼╌╌╌╌╌╌╌╌╌╌╌╌┼╌╌╌╌╌╌╌╌╌╌╌╌┤\n│ -1.453718  ┆ 0.318571   ┆ -1.444478  ┆ 16.690439  ┆ ... ┆ 0.23825    ┆ 17.902931  ┆ NaN        ┆ -1.525668  │\n├╌╌╌╌╌╌╌╌╌╌╌╌┼╌╌╌╌╌╌╌╌╌╌╌╌┼╌╌╌╌╌╌╌╌╌╌╌╌┼╌╌╌╌╌╌╌╌╌╌╌╌┼╌╌╌╌╌┼╌╌╌╌╌╌╌╌╌╌╌╌┼╌╌╌╌╌╌╌╌╌╌╌╌┼╌╌╌╌╌╌╌╌╌╌╌╌┼╌╌╌╌╌╌╌╌╌╌╌╌┤\n│ 0.149386   ┆ -0.326637  ┆ 8.409404   ┆ 16.148576  ┆ ... ┆ 12.198141  ┆ 17.862311  ┆ NaN        ┆ -1.372188  │\n├╌╌╌╌╌╌╌╌╌╌╌╌┼╌╌╌╌╌╌╌╌╌╌╌╌┼╌╌╌╌╌╌╌╌╌╌╌╌┼╌╌╌╌╌╌╌╌╌╌╌╌┼╌╌╌╌╌┼╌╌╌╌╌╌╌╌╌╌╌╌┼╌╌╌╌╌╌╌╌╌╌╌╌┼╌╌╌╌╌╌╌╌╌╌╌╌┼╌╌╌╌╌╌╌╌╌╌╌╌┤\n│ -0.473929  ┆ -1.522993  ┆ 4.253971   ┆ 13.932494  ┆ ... ┆ 10.06066   ┆ 25.767978  ┆ NaN        ┆ -1.788854  │\n└────────────┴────────────┴────────────┴────────────┴─────┴────────────┴────────────┴────────────┴────────────┘",
      "text/html": "<div>\n<style scoped>\n    .dataframe tbody tr th:only-of-type {\n        vertical-align: middle;\n    }\n\n    .dataframe tbody tr th {\n        vertical-align: top;\n    }\n\n    .dataframe thead th {\n        text-align: right;\n    }\n\n    .dataframe td {\n        white-space: pre;\n    }\n\n    .dataframe td {\n        padding-top: 0;\n    }\n\n    .dataframe td {\n        padding-bottom: 0;\n    }\n\n    .dataframe td {\n        line-height: 95%;\n    }\n</style>\n<table border=\"1\" class=\"dataframe\" >\n<small>shape: (5, 16)</small>\n<thead>\n<tr>\n<th>\nrolling_features-bar_features-bar-CME-HO-time_minutes_agg-1-ofi_normalized-z_score-10\n</th>\n<th>\nrolling_features-bar_features-bar-CME-HO-time_minutes_agg-5-ofi_normalized-z_score-10\n</th>\n<th>\nrolling_features-bar_features-bar-CME-HO-time_minutes_agg-1-ofi-z_score-10\n</th>\n<th>\nrolling_features-bar_features-bar-CME-HO-time_minutes_agg-5-ofi-z_score-10\n</th>\n<th>\nrolling_features-bar_features-bar-CME-HO-time_minutes_agg-1-ask_size_timedelta-z_score-10\n</th>\n<th>\nrolling_features-bar_features-bar-CME-HO-time_minutes_agg-5-ask_size_timedelta-z_score-10\n</th>\n<th>\nrolling_features-bar_features-bar-CME-HO-time_minutes_agg-1-bid_size_timedelta-z_score-10\n</th>\n<th>\nrolling_features-bar_features-bar-CME-HO-time_minutes_agg-5-bid_size_timedelta-z_score-10\n</th>\n<th>\nrolling_features-bar_features-bar-CME-HO-time_minutes_agg-1-return_timedelta-z_score-10\n</th>\n<th>\nrolling_features-bar_features-bar-CME-HO-time_minutes_agg-5-return_timedelta-z_score-10\n</th>\n<th>\nrolling_features-bar_features-bar-CME-HO-time_minutes_agg-1-volume_delta-z_score-10\n</th>\n<th>\nrolling_features-bar_features-bar-CME-HO-time_minutes_agg-5-volume_delta-z_score-10\n</th>\n<th>\nrolling_features-bar_features-bar-CME-HO-time_minutes_agg-1-volume-z_score-10\n</th>\n<th>\nrolling_features-bar_features-bar-CME-HO-time_minutes_agg-5-volume-z_score-10\n</th>\n<th>\nrolling_features-bar_features-bar-CME-HO-time_minutes_agg-1-internal_bar_strength-z_score-10\n</th>\n<th>\nrolling_features-bar_features-bar-CME-HO-time_minutes_agg-5-internal_bar_strength-z_score-10\n</th>\n</tr>\n<tr>\n<td>\nf64\n</td>\n<td>\nf64\n</td>\n<td>\nf64\n</td>\n<td>\nf64\n</td>\n<td>\nf64\n</td>\n<td>\nf64\n</td>\n<td>\nf64\n</td>\n<td>\nf64\n</td>\n<td>\nf64\n</td>\n<td>\nf64\n</td>\n<td>\nf64\n</td>\n<td>\nf64\n</td>\n<td>\nf64\n</td>\n<td>\nf64\n</td>\n<td>\nf64\n</td>\n<td>\nf64\n</td>\n</tr>\n</thead>\n<tbody>\n<tr>\n<td>\n0.659223\n</td>\n<td>\n0.680917\n</td>\n<td>\n1.037562\n</td>\n<td>\n17.078371\n</td>\n<td>\n-0.432018\n</td>\n<td>\n-0.845872\n</td>\n<td>\nNaN\n</td>\n<td>\nNaN\n</td>\n<td>\n0.041977\n</td>\n<td>\n-0.382497\n</td>\n<td>\n-1.037562\n</td>\n<td>\n-17.078371\n</td>\n<td>\n0.236711\n</td>\n<td>\n17.938541\n</td>\n<td>\nNaN\n</td>\n<td>\n-1.873314\n</td>\n</tr>\n<tr>\n<td>\n0.303857\n</td>\n<td>\n0.659366\n</td>\n<td>\n1.523175\n</td>\n<td>\n17.01613\n</td>\n<td>\n-0.432018\n</td>\n<td>\n-0.794414\n</td>\n<td>\nNaN\n</td>\n<td>\nNaN\n</td>\n<td>\n-0.02426\n</td>\n<td>\n-0.575144\n</td>\n<td>\n-1.523175\n</td>\n<td>\n-17.01613\n</td>\n<td>\n1.147112\n</td>\n<td>\n17.927575\n</td>\n<td>\nNaN\n</td>\n<td>\n-1.720809\n</td>\n</tr>\n<tr>\n<td>\n-1.453718\n</td>\n<td>\n0.318571\n</td>\n<td>\n-1.444478\n</td>\n<td>\n16.690439\n</td>\n<td>\n-0.376443\n</td>\n<td>\n-0.697195\n</td>\n<td>\nNaN\n</td>\n<td>\nNaN\n</td>\n<td>\n0.190516\n</td>\n<td>\n-0.626803\n</td>\n<td>\n1.444478\n</td>\n<td>\n-16.690439\n</td>\n<td>\n0.23825\n</td>\n<td>\n17.902931\n</td>\n<td>\nNaN\n</td>\n<td>\n-1.525668\n</td>\n</tr>\n<tr>\n<td>\n0.149386\n</td>\n<td>\n-0.326637\n</td>\n<td>\n8.409404\n</td>\n<td>\n16.148576\n</td>\n<td>\n-0.460838\n</td>\n<td>\n-1.58917\n</td>\n<td>\nNaN\n</td>\n<td>\nNaN\n</td>\n<td>\n0.096814\n</td>\n<td>\n-0.684028\n</td>\n<td>\n-8.409404\n</td>\n<td>\n-16.148576\n</td>\n<td>\n12.198141\n</td>\n<td>\n17.862311\n</td>\n<td>\nNaN\n</td>\n<td>\n-1.372188\n</td>\n</tr>\n<tr>\n<td>\n-0.473929\n</td>\n<td>\n-1.522993\n</td>\n<td>\n4.253971\n</td>\n<td>\n13.932494\n</td>\n<td>\n-0.594195\n</td>\n<td>\n-1.600055\n</td>\n<td>\nNaN\n</td>\n<td>\nNaN\n</td>\n<td>\n0.173925\n</td>\n<td>\n-0.731367\n</td>\n<td>\n-4.253971\n</td>\n<td>\n-13.932494\n</td>\n<td>\n10.06066\n</td>\n<td>\n25.767978\n</td>\n<td>\nNaN\n</td>\n<td>\n-1.788854\n</td>\n</tr>\n</tbody>\n</table>\n</div>"
     },
     "execution_count": 197,
     "metadata": {},
     "output_type": "execute_result"
    }
   ],
   "source": [
    "rolling_feat_supplier.data[\n",
    "    [\n",
    "        e for e in rolling_feat_supplier.data.columns\n",
    "        if \"rolling_features\" in e\n",
    "    ]\n",
    "].tail()"
   ],
   "metadata": {
    "collapsed": false
   }
  },
  {
   "cell_type": "code",
   "execution_count": null,
   "outputs": [],
   "source": [],
   "metadata": {
    "collapsed": false
   }
  }
 ],
 "metadata": {
  "kernelspec": {
   "display_name": "Python 3",
   "language": "python",
   "name": "python3"
  },
  "language_info": {
   "codemirror_mode": {
    "name": "ipython",
    "version": 2
   },
   "file_extension": ".py",
   "mimetype": "text/x-python",
   "name": "python",
   "nbconvert_exporter": "python",
   "pygments_lexer": "ipython2",
   "version": "2.7.6"
  }
 },
 "nbformat": 4,
 "nbformat_minor": 0
}
